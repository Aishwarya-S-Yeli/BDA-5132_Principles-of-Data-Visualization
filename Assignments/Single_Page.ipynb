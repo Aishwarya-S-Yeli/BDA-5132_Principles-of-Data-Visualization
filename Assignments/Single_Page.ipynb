{
 "cells": [
  {
   "cell_type": "markdown",
   "metadata": {},
   "source": [
    "Code to scrape name/title and price of best selling chocolates in Cococart India website"
   ]
  },
  {
   "cell_type": "code",
   "execution_count": 1,
   "metadata": {},
   "outputs": [
    {
     "name": "stdout",
     "output_type": "stream",
     "text": [
      "Scraped data has been saved to 'cococart_products.csv'\n"
     ]
    }
   ],
   "source": [
    "#importing required libraries\n",
    "import requests\n",
    "from bs4 import BeautifulSoup\n",
    "import csv\n",
    "\n",
    "#assigning the URL\n",
    "url = 'https://cococart.in/'\n",
    "\n",
    "response = requests.get(url)\n",
    "soup = BeautifulSoup(response.content, 'html.parser')\n",
    "\n",
    "product_cards = soup.find_all('div', class_='grid-item__meta')\n",
    "\n",
    "#creating csv file \n",
    "csv_filename = 'cococart_products.csv'\n",
    "\n",
    "with open(csv_filename, 'w', newline='', encoding='utf-8') as csv_file:\n",
    "    csv_writer = csv.writer(csv_file)\n",
    "    csv_writer.writerow(['Product', 'Price'])\n",
    "\n",
    "    #looping through the name price of the product\n",
    "    for card in product_cards:\n",
    "        product_name = card.find('div', class_='grid-product__title')\n",
    "        product_price = card.find('span', class_='grid-product__price--current')\n",
    "\n",
    "        if product_name and product_price:\n",
    "            product_name_text = product_name.get_text(strip=True)\n",
    "            product_price_text = product_price.get_text(strip=True)\n",
    "            csv_writer.writerow([product_name_text, product_price_text])\n",
    "\n",
    "#confirmation message of data being saved to CSV file \n",
    "print(f\"Scraped data has been saved to '{csv_filename}'\")\n"
   ]
  }
 ],
 "metadata": {
  "kernelspec": {
   "display_name": "base",
   "language": "python",
   "name": "python3"
  },
  "language_info": {
   "codemirror_mode": {
    "name": "ipython",
    "version": 3
   },
   "file_extension": ".py",
   "mimetype": "text/x-python",
   "name": "python",
   "nbconvert_exporter": "python",
   "pygments_lexer": "ipython3",
   "version": "3.7.6"
  },
  "orig_nbformat": 4
 },
 "nbformat": 4,
 "nbformat_minor": 2
}
