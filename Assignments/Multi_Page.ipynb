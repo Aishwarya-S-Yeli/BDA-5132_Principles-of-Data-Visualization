{
 "cells": [
  {
   "cell_type": "markdown",
   "metadata": {},
   "source": [
    "Code to scrape multiple pages from w3schools website."
   ]
  },
  {
   "cell_type": "code",
   "execution_count": 1,
   "metadata": {},
   "outputs": [
    {
     "name": "stdout",
     "output_type": "stream",
     "text": [
      "Scraped data saved to w3school_examples.csv\n"
     ]
    }
   ],
   "source": [
    "import requests\n",
    "from bs4 import BeautifulSoup\n",
    "import csv\n",
    "\n",
    "# Base URL of the website\n",
    "base_url = \"https://www.w3schools.com\"\n",
    "\n",
    "# List of page paths to scrape\n",
    "page_paths = [\n",
    "    \"/html/default.asp\",\n",
    "    \"/css/default.asp\",\n",
    "    \"/python/default.asp\"\n",
    "]\n",
    "\n",
    "# Create a CSV file and write headers\n",
    "csv_filename = \"w3school_examples.csv\"\n",
    "with open(csv_filename, \"w\", newline=\"\", encoding=\"utf-8\") as csv_file:\n",
    "    csv_writer = csv.writer(csv_file)\n",
    "    csv_writer.writerow([\"Page Title\", \"Example Code\"])\n",
    "\n",
    "    # Loop through the page paths\n",
    "    for page_path in page_paths:\n",
    "        # Construct the complete URL\n",
    "        url = base_url + page_path\n",
    "\n",
    "        # Send an HTTP GET request to the URL\n",
    "        response = requests.get(url)\n",
    "\n",
    "        # Parse the HTML content using BeautifulSoup\n",
    "        soup = BeautifulSoup(response.content, \"html.parser\")\n",
    "\n",
    "        # Extract the page title\n",
    "        page_title = soup.title.text.strip()\n",
    "\n",
    "        # Find examples on the page\n",
    "        examples = soup.find_all(\"div\", class_=\"w3-example\")\n",
    "\n",
    "        # Write examples to the CSV file\n",
    "        for example in examples:\n",
    "            #example_title = example.h3.a.text.strip()\n",
    "            example_code = example.find(\"div\", class_=\"w3-code\").text.strip()\n",
    "            csv_writer.writerow([page_title, example_code])\n",
    "\n",
    "print(f\"Scraped data saved to {csv_filename}\")\n"
   ]
  }
 ],
 "metadata": {
  "kernelspec": {
   "display_name": "base",
   "language": "python",
   "name": "python3"
  },
  "language_info": {
   "codemirror_mode": {
    "name": "ipython",
    "version": 3
   },
   "file_extension": ".py",
   "mimetype": "text/x-python",
   "name": "python",
   "nbconvert_exporter": "python",
   "pygments_lexer": "ipython3",
   "version": "3.7.6"
  },
  "orig_nbformat": 4
 },
 "nbformat": 4,
 "nbformat_minor": 2
}
